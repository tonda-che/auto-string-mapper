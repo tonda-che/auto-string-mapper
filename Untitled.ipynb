{
 "cells": [
  {
   "cell_type": "code",
   "execution_count": 2,
   "id": "3b6e0696",
   "metadata": {},
   "outputs": [],
   "source": [
    "import pandas as pd\n",
    "import numpy as np\n"
   ]
  },
  {
   "cell_type": "code",
   "execution_count": 5,
   "id": "7e01a948",
   "metadata": {},
   "outputs": [],
   "source": [
    "df1 = pd.DataFrame({\"column1\": [\"BMW\", \"MERCEDES\", \"VW\",\"OPEL\"]})\n",
    "df2 = pd.DataFrame({\"column2\": [\"MERCEDES Benz Gmbh\", \"Volkswagen\", \"Opel Rüsselsheim\", \"Bayrische Motorenwerke\", \"OPER\"]})"
   ]
  },
  {
   "cell_type": "code",
   "execution_count": 6,
   "id": "294223c6",
   "metadata": {},
   "outputs": [],
   "source": [
    "unique_column1 = df1[\"column1\"].drop_duplicates().reset_index(drop=True)\n",
    "unique_column2 = df2[\"column2\"].drop_duplicates().reset_index(drop=True)\n",
    "len_column1 = unique_column1.shape[0]\n",
    "len_column2 = unique_column2.shape[0]\n",
    "maxlen_column1 = unique_column1.str.len().max()\n",
    "maxlen_column2 = unique_column2.str.len().max()"
   ]
  },
  {
   "cell_type": "code",
   "execution_count": 17,
   "id": "a943a4d9",
   "metadata": {},
   "outputs": [],
   "source": [
    "def create_series_for_comparison(column1, column2):\n",
    "    \n",
    "    new_column1 = pd.Series(column1.tolist() * column2.shape[0])\n",
    "    new_column2 = []\n",
    "    for element in column2.tolist():\n",
    "        list_element = [element] * column1.shape[0]\n",
    "        new_column2 = new_column2 + list_element\n",
    "\n",
    "    new_column2 = pd.Series(new_column2)\n",
    "    \n",
    "    return new_column1, new_column2\n",
    "\n",
    "column1, column2 = create_series_for_comparison(unique_column1, unique_column2)"
   ]
  },
  {
   "cell_type": "code",
   "execution_count": 149,
   "id": "bb7a8ec8",
   "metadata": {},
   "outputs": [],
   "source": [
    "def create_levenshtein_array(\n",
    "    column1, column2, len_column1, len_column2, maxlen_column1, maxlen_column2\n",
    "):\n",
    "\n",
    "    levenshtein_array = np.zeros(\n",
    "        [len_column1 * len_column2, maxlen_column1, maxlen_column2], \"int16\"\n",
    "    )\n",
    "\n",
    "    for column1_index in range(maxlen_column1):\n",
    "        for column2_index in range(maxlen_column2):\n",
    "\n",
    "            if column1_index == 0:\n",
    "\n",
    "                insertion = np.array(\n",
    "                    [np.iinfo(\"int16\").max] * len_column1 * len_column2\n",
    "                )\n",
    "\n",
    "            else:\n",
    "\n",
    "                insertion = levenshtein_array[:, column1_index - 1, column2_index] + (\n",
    "                    ~pd.isnull(column1.str[column1_index])\n",
    "                ).astype(\"int16\")\n",
    "\n",
    "            if column2_index == 0:\n",
    "\n",
    "                deletion = np.array([np.iinfo(\"int16\").max] * len_column1 * len_column2)\n",
    "\n",
    "            else:\n",
    "\n",
    "                deletion = levenshtein_array[:, column1_index, column2_index - 1] + (\n",
    "                    ~pd.isnull(column2.str[column2_index])\n",
    "                ).astype(\"int16\")\n",
    "\n",
    "            if column1_index == 0 or column2_index == 0:\n",
    "\n",
    "                replacement = np.array(\n",
    "                    [np.iinfo(\"int16\").max] * len_column1 * len_column2\n",
    "                )\n",
    "\n",
    "                if column1_index == 0 and column2_index == 0:\n",
    "\n",
    "                    comparison = (\n",
    "                        column1.str[column1_index] != column2.str[column2_index]\n",
    "                    )\n",
    "                    replacement = comparison.astype(\"int16\")\n",
    "\n",
    "            else:\n",
    "\n",
    "                comparison = column1.str[column1_index] != column2.str[column2_index]\n",
    "                replacement = levenshtein_array[\n",
    "                    :, column1_index - 1, column2_index - 1\n",
    "                ] + comparison.astype(\"int16\")\n",
    "\n",
    "            levenshtein_array[:, column1_index, column2_index] = np.array(\n",
    "                [insertion, deletion, replacement]\n",
    "            ).min(axis=0)\n",
    "\n",
    "    return levenshtein_array\n",
    "\n",
    "\n",
    "levenshtein_array = create_levenshtein_array(\n",
    "    column1, column2, len_column1, len_column2, maxlen_column1, maxlen_column2\n",
    ")"
   ]
  },
  {
   "cell_type": "code",
   "execution_count": 150,
   "id": "e2a6ff83",
   "metadata": {
    "scrolled": true
   },
   "outputs": [],
   "source": [
    "distance_frame = pd.DataFrame(\n",
    "    levenshtein_array[:, maxlen_column1 - 1, maxlen_column2 - 1].reshape(\n",
    "        [len_column2, len_column1]\n",
    "    )\n",
    ")"
   ]
  },
  {
   "cell_type": "code",
   "execution_count": 151,
   "id": "57d0e13a",
   "metadata": {},
   "outputs": [
    {
     "data": {
      "text/html": [
       "<div>\n",
       "<style scoped>\n",
       "    .dataframe tbody tr th:only-of-type {\n",
       "        vertical-align: middle;\n",
       "    }\n",
       "\n",
       "    .dataframe tbody tr th {\n",
       "        vertical-align: top;\n",
       "    }\n",
       "\n",
       "    .dataframe thead th {\n",
       "        text-align: right;\n",
       "    }\n",
       "</style>\n",
       "<table border=\"1\" class=\"dataframe\">\n",
       "  <thead>\n",
       "    <tr style=\"text-align: right;\">\n",
       "      <th></th>\n",
       "      <th>0</th>\n",
       "      <th>1</th>\n",
       "      <th>2</th>\n",
       "      <th>3</th>\n",
       "    </tr>\n",
       "  </thead>\n",
       "  <tbody>\n",
       "    <tr>\n",
       "      <th>0</th>\n",
       "      <td>18</td>\n",
       "      <td>10</td>\n",
       "      <td>18</td>\n",
       "      <td>17</td>\n",
       "    </tr>\n",
       "    <tr>\n",
       "      <th>1</th>\n",
       "      <td>10</td>\n",
       "      <td>10</td>\n",
       "      <td>9</td>\n",
       "      <td>10</td>\n",
       "    </tr>\n",
       "    <tr>\n",
       "      <th>2</th>\n",
       "      <td>16</td>\n",
       "      <td>15</td>\n",
       "      <td>16</td>\n",
       "      <td>15</td>\n",
       "    </tr>\n",
       "    <tr>\n",
       "      <th>3</th>\n",
       "      <td>20</td>\n",
       "      <td>22</td>\n",
       "      <td>22</td>\n",
       "      <td>22</td>\n",
       "    </tr>\n",
       "    <tr>\n",
       "      <th>4</th>\n",
       "      <td>4</td>\n",
       "      <td>7</td>\n",
       "      <td>4</td>\n",
       "      <td>1</td>\n",
       "    </tr>\n",
       "  </tbody>\n",
       "</table>\n",
       "</div>"
      ],
      "text/plain": [
       "    0   1   2   3\n",
       "0  18  10  18  17\n",
       "1  10  10   9  10\n",
       "2  16  15  16  15\n",
       "3  20  22  22  22\n",
       "4   4   7   4   1"
      ]
     },
     "execution_count": 151,
     "metadata": {},
     "output_type": "execute_result"
    }
   ],
   "source": [
    "distance_frame"
   ]
  },
  {
   "cell_type": "code",
   "execution_count": 158,
   "id": "714d85bc",
   "metadata": {},
   "outputs": [],
   "source": [
    "def create_divisor_frame(column1, column2):\n",
    "\n",
    "    divisor_frame_1 = pd.concat([column1.str.len()] * column2.shape[0], axis=1).T\n",
    "    divisor_frame_2 = pd.concat([column2.str.len()] * column1.shape[0], axis=1)\n",
    "\n",
    "    divisor_frame_1 = divisor_frame_1.T.reset_index(drop=True).T\n",
    "    divisor_frame_1.reset_index(drop=True, inplace=True)\n",
    "\n",
    "    divisor_frame_2 = divisor_frame_2.T.reset_index(drop=True).T\n",
    "    divisor_frame_2.reset_index(drop=True, inplace=True)\n",
    "\n",
    "    divisor_frame = pd.concat([divisor_frame_1, divisor_frame_2]).groupby(level=0).max().astype(\"float32\")\n",
    "\n",
    "    return divisor_frame\n",
    "\n",
    "divisor_frame = create_divisor_frame(unique_column1, unique_column2)"
   ]
  },
  {
   "cell_type": "code",
   "execution_count": 159,
   "id": "728db6ce",
   "metadata": {},
   "outputs": [],
   "source": [
    "similarity_frame = 1 - (distance_frame / divisor_frame)"
   ]
  },
  {
   "cell_type": "code",
   "execution_count": 160,
   "id": "223c9950",
   "metadata": {},
   "outputs": [
    {
     "data": {
      "text/html": [
       "<div>\n",
       "<style scoped>\n",
       "    .dataframe tbody tr th:only-of-type {\n",
       "        vertical-align: middle;\n",
       "    }\n",
       "\n",
       "    .dataframe tbody tr th {\n",
       "        vertical-align: top;\n",
       "    }\n",
       "\n",
       "    .dataframe thead th {\n",
       "        text-align: right;\n",
       "    }\n",
       "</style>\n",
       "<table border=\"1\" class=\"dataframe\">\n",
       "  <thead>\n",
       "    <tr style=\"text-align: right;\">\n",
       "      <th></th>\n",
       "      <th>0</th>\n",
       "      <th>1</th>\n",
       "      <th>2</th>\n",
       "      <th>3</th>\n",
       "    </tr>\n",
       "  </thead>\n",
       "  <tbody>\n",
       "    <tr>\n",
       "      <th>0</th>\n",
       "      <td>18.0</td>\n",
       "      <td>18.0</td>\n",
       "      <td>18.0</td>\n",
       "      <td>18.0</td>\n",
       "    </tr>\n",
       "    <tr>\n",
       "      <th>1</th>\n",
       "      <td>10.0</td>\n",
       "      <td>10.0</td>\n",
       "      <td>10.0</td>\n",
       "      <td>10.0</td>\n",
       "    </tr>\n",
       "    <tr>\n",
       "      <th>2</th>\n",
       "      <td>16.0</td>\n",
       "      <td>16.0</td>\n",
       "      <td>16.0</td>\n",
       "      <td>16.0</td>\n",
       "    </tr>\n",
       "    <tr>\n",
       "      <th>3</th>\n",
       "      <td>22.0</td>\n",
       "      <td>22.0</td>\n",
       "      <td>22.0</td>\n",
       "      <td>22.0</td>\n",
       "    </tr>\n",
       "    <tr>\n",
       "      <th>4</th>\n",
       "      <td>4.0</td>\n",
       "      <td>8.0</td>\n",
       "      <td>4.0</td>\n",
       "      <td>4.0</td>\n",
       "    </tr>\n",
       "  </tbody>\n",
       "</table>\n",
       "</div>"
      ],
      "text/plain": [
       "      0     1     2     3\n",
       "0  18.0  18.0  18.0  18.0\n",
       "1  10.0  10.0  10.0  10.0\n",
       "2  16.0  16.0  16.0  16.0\n",
       "3  22.0  22.0  22.0  22.0\n",
       "4   4.0   8.0   4.0   4.0"
      ]
     },
     "execution_count": 160,
     "metadata": {},
     "output_type": "execute_result"
    }
   ],
   "source": [
    "divisor_frame"
   ]
  },
  {
   "cell_type": "code",
   "execution_count": 161,
   "id": "579b60b1",
   "metadata": {},
   "outputs": [],
   "source": [
    "similarity_frame.index = unique_column2.to_list()\n",
    "similarity_frame.columns = unique_column1.to_list()"
   ]
  },
  {
   "cell_type": "code",
   "execution_count": 166,
   "id": "b7b6140e",
   "metadata": {},
   "outputs": [],
   "source": [
    "mapping = pd.DataFrame(similarity_frame.idxmax(axis=1)).to_dict()[0]"
   ]
  },
  {
   "cell_type": "code",
   "execution_count": 167,
   "id": "9bf4ec33",
   "metadata": {},
   "outputs": [
    {
     "data": {
      "text/plain": [
       "{'MERCEDES Benz Gmbh': 'MERCEDES',\n",
       " 'Volkswagen': 'VW',\n",
       " 'Opel Rüsselsheim': 'MERCEDES',\n",
       " 'Bayrische Motorenwerke': 'BMW',\n",
       " 'OPER': 'OPEL'}"
      ]
     },
     "execution_count": 167,
     "metadata": {},
     "output_type": "execute_result"
    }
   ],
   "source": [
    "mapping"
   ]
  },
  {
   "cell_type": "code",
   "execution_count": 168,
   "id": "83984f00",
   "metadata": {},
   "outputs": [
    {
     "data": {
      "text/html": [
       "<div>\n",
       "<style scoped>\n",
       "    .dataframe tbody tr th:only-of-type {\n",
       "        vertical-align: middle;\n",
       "    }\n",
       "\n",
       "    .dataframe tbody tr th {\n",
       "        vertical-align: top;\n",
       "    }\n",
       "\n",
       "    .dataframe thead th {\n",
       "        text-align: right;\n",
       "    }\n",
       "</style>\n",
       "<table border=\"1\" class=\"dataframe\">\n",
       "  <thead>\n",
       "    <tr style=\"text-align: right;\">\n",
       "      <th></th>\n",
       "      <th>BMW</th>\n",
       "      <th>MERCEDES</th>\n",
       "      <th>VW</th>\n",
       "      <th>OPEL</th>\n",
       "    </tr>\n",
       "  </thead>\n",
       "  <tbody>\n",
       "    <tr>\n",
       "      <th>MERCEDES Benz Gmbh</th>\n",
       "      <td>0.000000</td>\n",
       "      <td>0.444444</td>\n",
       "      <td>0.0</td>\n",
       "      <td>0.055556</td>\n",
       "    </tr>\n",
       "    <tr>\n",
       "      <th>Volkswagen</th>\n",
       "      <td>0.000000</td>\n",
       "      <td>0.000000</td>\n",
       "      <td>0.1</td>\n",
       "      <td>0.000000</td>\n",
       "    </tr>\n",
       "    <tr>\n",
       "      <th>Opel Rüsselsheim</th>\n",
       "      <td>0.000000</td>\n",
       "      <td>0.062500</td>\n",
       "      <td>0.0</td>\n",
       "      <td>0.062500</td>\n",
       "    </tr>\n",
       "    <tr>\n",
       "      <th>Bayrische Motorenwerke</th>\n",
       "      <td>0.090909</td>\n",
       "      <td>0.000000</td>\n",
       "      <td>0.0</td>\n",
       "      <td>0.000000</td>\n",
       "    </tr>\n",
       "    <tr>\n",
       "      <th>OPER</th>\n",
       "      <td>0.000000</td>\n",
       "      <td>0.125000</td>\n",
       "      <td>0.0</td>\n",
       "      <td>0.750000</td>\n",
       "    </tr>\n",
       "  </tbody>\n",
       "</table>\n",
       "</div>"
      ],
      "text/plain": [
       "                             BMW  MERCEDES   VW      OPEL\n",
       "MERCEDES Benz Gmbh      0.000000  0.444444  0.0  0.055556\n",
       "Volkswagen              0.000000  0.000000  0.1  0.000000\n",
       "Opel Rüsselsheim        0.000000  0.062500  0.0  0.062500\n",
       "Bayrische Motorenwerke  0.090909  0.000000  0.0  0.000000\n",
       "OPER                    0.000000  0.125000  0.0  0.750000"
      ]
     },
     "execution_count": 168,
     "metadata": {},
     "output_type": "execute_result"
    }
   ],
   "source": [
    "similarity_frame"
   ]
  },
  {
   "cell_type": "code",
   "execution_count": null,
   "id": "a567e134",
   "metadata": {},
   "outputs": [],
   "source": []
  }
 ],
 "metadata": {
  "kernelspec": {
   "display_name": "Python 3 (ipykernel)",
   "language": "python",
   "name": "python3"
  },
  "language_info": {
   "codemirror_mode": {
    "name": "ipython",
    "version": 3
   },
   "file_extension": ".py",
   "mimetype": "text/x-python",
   "name": "python",
   "nbconvert_exporter": "python",
   "pygments_lexer": "ipython3",
   "version": "3.9.1"
  }
 },
 "nbformat": 4,
 "nbformat_minor": 5
}
