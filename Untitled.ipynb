{
 "cells": [
  {
   "cell_type": "code",
   "execution_count": 1,
   "id": "3b6e0696",
   "metadata": {},
   "outputs": [],
   "source": [
    "import pandas as pd\n",
    "import numpy as np\n",
    "from asm import AutoStringMapper"
   ]
  },
  {
   "cell_type": "code",
   "execution_count": null,
   "id": "5d5793ec",
   "metadata": {},
   "outputs": [],
   "source": [
    "import string    \n",
    "import random # define the random module  \n",
    "def get_random_string():\n",
    "    S = 20  # number of characters in the string.  \n",
    "    # call random.choices() string module to find the string in Uppercase + numeric data.  \n",
    "    ran = ''.join(random.choices(string.ascii_uppercase + string.digits, k = S)) \n",
    "    return ran\n",
    "\n",
    "def get_random_string_array(num=100):\n",
    "    arr = []\n",
    "    for index in range(num):\n",
    "        arr.append(get_random_string())\n",
    "    return arr\n",
    "\n",
    "from_array = get_random_string_array()\n",
    "to_array = get_random_string_array()"
   ]
  },
  {
   "cell_type": "code",
   "execution_count": null,
   "id": "f2df3148",
   "metadata": {},
   "outputs": [],
   "source": [
    "result = AutoStringMapper(from_array, to_array)"
   ]
  },
  {
   "cell_type": "code",
   "execution_count": null,
   "id": "25b67916",
   "metadata": {},
   "outputs": [],
   "source": [
    "result.get_mapping(similarity_threshold=0.2)"
   ]
  },
  {
   "cell_type": "code",
   "execution_count": null,
   "id": "fcc91e0f",
   "metadata": {},
   "outputs": [],
   "source": []
  },
  {
   "cell_type": "code",
   "execution_count": null,
   "id": "7e01a948",
   "metadata": {},
   "outputs": [],
   "source": [
    "df1 = pd.DataFrame({\"column1\": [\"BMW\", \"MERCEDES\", \"VW\", \"OPEL\", \"OPER\", \"OPE\"]})"
   ]
  },
  {
   "cell_type": "code",
   "execution_count": null,
   "id": "294223c6",
   "metadata": {},
   "outputs": [],
   "source": [
    "AutoStringMapper(df1[\"column1\"], [\n",
    "            \"MERCEDES Benz Gmbh\",\n",
    "            \"Volkswagen\",\n",
    "            \"Opel Rüsselsheim\",\n",
    "            \"Bayrische Motorenwerke\",\n",
    "            \"OPER\",\n",
    "        ]).get_mapping(similarity_threshold=0.3)"
   ]
  },
  {
   "cell_type": "code",
   "execution_count": null,
   "id": "8443853a",
   "metadata": {},
   "outputs": [],
   "source": [
    "mat = AutoStringMapper(df1[\"column1\"], [\n",
    "            \"MERCEDES Benz Gmbh\",\n",
    "            \"Volkswagen\",\n",
    "            \"Opel Rüsselsheim\",\n",
    "            \"Bayrische Motorenwerke\",\n",
    "            \"OPER\",\n",
    "        ]).similarity_matrix"
   ]
  },
  {
   "cell_type": "code",
   "execution_count": 15,
   "id": "83fdd8f8",
   "metadata": {},
   "outputs": [
    {
     "data": {
      "text/plain": [
       "{'The Beauty and the Beast': 'The Beauty and the Beast (1991)',\n",
       " 'Aladdin': 'Aladin (1992)',\n",
       " 'Mulan': 'Mulan (1998)',\n",
       " 'The Lion King': 'Lion King (1994)',\n",
       " 'Matrix (1999)': 'Aladin (1992)'}"
      ]
     },
     "execution_count": 15,
     "metadata": {},
     "output_type": "execute_result"
    }
   ],
   "source": [
    "from_column = pd.Series([\"The Beauty and the Beast\", \"Aladdin\", \"Mulan\", \"The Lion King\", \"Matrix (1999)\"])\n",
    "to_column = pd.Series([\"Aladin (1992)\", \"Lion King (1994)\", \"The Beauty and the Beast (1991)\", \"Mulan (1998)\", \"MATRIX 1999\"])\n",
    "asm = AutoStringMapper(from_column, to_column, ignore_case=False)\n",
    "actual_result = asm.get_mapping()\n",
    "actual_result"
   ]
  },
  {
   "cell_type": "code",
   "execution_count": 7,
   "id": "3ff3f3b3",
   "metadata": {},
   "outputs": [
    {
     "data": {
      "text/plain": [
       "The Beauty and the Beast    False\n",
       "Aladin                      False\n",
       "Mulan                       False\n",
       "Aladdin                      True\n",
       "dtype: bool"
      ]
     },
     "execution_count": 7,
     "metadata": {},
     "output_type": "execute_result"
    }
   ],
   "source": [
    "a= asm.similarity_matrix.idxmax(axis=0).duplicated(keep=\"first\") \n",
    "a"
   ]
  },
  {
   "cell_type": "code",
   "execution_count": 8,
   "id": "ea16acad",
   "metadata": {},
   "outputs": [
    {
     "data": {
      "text/plain": [
       "The Beauty and the Beast    False\n",
       "Aladin                      False\n",
       "Mulan                       False\n",
       "Aladdin                     False\n",
       "dtype: bool"
      ]
     },
     "execution_count": 8,
     "metadata": {},
     "output_type": "execute_result"
    }
   ],
   "source": [
    "b=asm.similarity_matrix.max(axis=0) < 0.0\n",
    "b"
   ]
  },
  {
   "cell_type": "code",
   "execution_count": 9,
   "id": "57c8a441",
   "metadata": {},
   "outputs": [
    {
     "data": {
      "text/plain": [
       "The Beauty and the Beast    False\n",
       "Aladin                      False\n",
       "Mulan                       False\n",
       "Aladdin                      True\n",
       "dtype: bool"
      ]
     },
     "execution_count": 9,
     "metadata": {},
     "output_type": "execute_result"
    }
   ],
   "source": [
    "a | b"
   ]
  },
  {
   "cell_type": "code",
   "execution_count": 5,
   "id": "53d46a87",
   "metadata": {},
   "outputs": [
    {
     "data": {
      "text/plain": [
       "{'The Beauty and the Beast': nan,\n",
       " 'Aladdin': 'Aladin (1992)',\n",
       " 'Mulan': nan,\n",
       " 'Aladin': nan}"
      ]
     },
     "execution_count": 5,
     "metadata": {},
     "output_type": "execute_result"
    }
   ],
   "source": [
    "actual_result"
   ]
  },
  {
   "cell_type": "code",
   "execution_count": 46,
   "id": "945697a0",
   "metadata": {},
   "outputs": [],
   "source": [
    "from_column = pd.Series([\"Matrix (1999)\", \"MATRIX 1999\"])\n",
    "to_column = pd.Series([\"MATRIX 1999 XYZZZZ\", \"MTRX\"])\n",
    "actual_result = AutoStringMapper(from_column, to_column, ignore_case=True).get_mapping(\n",
    "    relationship_type=\"1:1\", similarity_threshold=0.3, data_type=\"series\"\n",
    ")"
   ]
  },
  {
   "cell_type": "code",
   "execution_count": 62,
   "id": "469b24e1",
   "metadata": {},
   "outputs": [
    {
     "data": {
      "text/plain": [
       "Matrix (1999)                  MTRX\n",
       "MATRIX 1999      MATRIX 1999 XYZZZZ\n",
       "dtype: object"
      ]
     },
     "execution_count": 62,
     "metadata": {},
     "output_type": "execute_result"
    }
   ],
   "source": [
    "actual_result.fillna(similarity_matrix.idxmax())"
   ]
  },
  {
   "cell_type": "code",
   "execution_count": 60,
   "id": "67c3d65d",
   "metadata": {},
   "outputs": [
    {
     "data": {
      "text/plain": [
       "Matrix (1999)    MTRX\n",
       "MATRIX 1999      MTRX\n",
       "dtype: object"
      ]
     },
     "execution_count": 60,
     "metadata": {},
     "output_type": "execute_result"
    }
   ],
   "source": [
    "similarity_matrix.idxmax()"
   ]
  },
  {
   "cell_type": "code",
   "execution_count": 58,
   "id": "a8377857",
   "metadata": {},
   "outputs": [],
   "source": [
    "for index in actual_result:\n",
    "    if not pd.isnull(index):\n",
    "        similarity_matrix.drop(index, inplace=True)"
   ]
  },
  {
   "cell_type": "code",
   "execution_count": 14,
   "id": "247b44f0",
   "metadata": {},
   "outputs": [],
   "source": [
    "similarity_matrix = AutoStringMapper(from_column, to_column, ignore_case=True).similarity_matrix"
   ]
  },
  {
   "cell_type": "code",
   "execution_count": 39,
   "id": "9f04a67d",
   "metadata": {},
   "outputs": [],
   "source": [
    "similarity_threshold_mask = AutoStringMapper(from_column, to_column, ignore_case=True).similarity_matrix.max(axis=0) < 0.3"
   ]
  },
  {
   "cell_type": "code",
   "execution_count": 12,
   "id": "cd012c8c",
   "metadata": {},
   "outputs": [
    {
     "data": {
      "text/plain": [
       "1"
      ]
     },
     "execution_count": 12,
     "metadata": {},
     "output_type": "execute_result"
    }
   ],
   "source": [
    "duplication_mask = (\n",
    "    AutoStringMapper(from_column, to_column, ignore_case=True)\n",
    "    .similarity_matrix.idxmax(axis=0)\n",
    "    .duplicated(keep=\"first\")\n",
    ")\n",
    "duplication_mask.sum()"
   ]
  },
  {
   "cell_type": "code",
   "execution_count": 13,
   "id": "20f86448",
   "metadata": {},
   "outputs": [
    {
     "data": {
      "text/plain": [
       "2"
      ]
     },
     "execution_count": 13,
     "metadata": {},
     "output_type": "execute_result"
    }
   ],
   "source": [
    "len(AutoStringMapper(from_column, to_column, ignore_case=True).similarity_matrix.columns)"
   ]
  },
  {
   "cell_type": "code",
   "execution_count": 33,
   "id": "f5829eab",
   "metadata": {},
   "outputs": [
    {
     "ename": "TypeError",
     "evalue": "nlargest() missing 1 required positional argument: 'columns'",
     "output_type": "error",
     "traceback": [
      "\u001b[0;31m---------------------------------------------------------------------------\u001b[0m",
      "\u001b[0;31mTypeError\u001b[0m                                 Traceback (most recent call last)",
      "\u001b[0;32m/var/folders/p4/p_llptzj0rd_yf613wnqs5sc0000gn/T/ipykernel_1096/128302959.py\u001b[0m in \u001b[0;36m<module>\u001b[0;34m\u001b[0m\n\u001b[0;32m----> 1\u001b[0;31m \u001b[0msimilarity_matrix\u001b[0m\u001b[0;34m.\u001b[0m\u001b[0mnlargest\u001b[0m\u001b[0;34m(\u001b[0m\u001b[0mn\u001b[0m\u001b[0;34m=\u001b[0m\u001b[0;36m2\u001b[0m\u001b[0;34m)\u001b[0m\u001b[0;34m.\u001b[0m\u001b[0mindex\u001b[0m\u001b[0;34m\u001b[0m\u001b[0;34m\u001b[0m\u001b[0m\n\u001b[0m",
      "\u001b[0;31mTypeError\u001b[0m: nlargest() missing 1 required positional argument: 'columns'"
     ]
    }
   ],
   "source": [
    "similarity_matrix.nlargest(n=2)"
   ]
  },
  {
   "cell_type": "code",
   "execution_count": 37,
   "id": "835ae471",
   "metadata": {},
   "outputs": [
    {
     "data": {
      "text/plain": [
       "Matrix (1999)    MATRIX 1999 XYZZZZ\n",
       "MATRIX 1999      MATRIX 1999 XYZZZZ\n",
       "dtype: object"
      ]
     },
     "execution_count": 37,
     "metadata": {},
     "output_type": "execute_result"
    }
   ],
   "source": [
    "similarity_matrix.idxmax()"
   ]
  },
  {
   "cell_type": "code",
   "execution_count": 35,
   "id": "5a83ebda",
   "metadata": {},
   "outputs": [
    {
     "data": {
      "text/plain": [
       "Matrix (1999)    False\n",
       "MATRIX 1999       True\n",
       "dtype: bool"
      ]
     },
     "execution_count": 35,
     "metadata": {},
     "output_type": "execute_result"
    }
   ],
   "source": [
    "duplication_mask"
   ]
  },
  {
   "cell_type": "code",
   "execution_count": null,
   "id": "2c5f25bc",
   "metadata": {},
   "outputs": [],
   "source": []
  }
 ],
 "metadata": {
  "kernelspec": {
   "display_name": "Python 3 (ipykernel)",
   "language": "python",
   "name": "python3"
  },
  "language_info": {
   "codemirror_mode": {
    "name": "ipython",
    "version": 3
   },
   "file_extension": ".py",
   "mimetype": "text/x-python",
   "name": "python",
   "nbconvert_exporter": "python",
   "pygments_lexer": "ipython3",
   "version": "3.9.1"
  }
 },
 "nbformat": 4,
 "nbformat_minor": 5
}
