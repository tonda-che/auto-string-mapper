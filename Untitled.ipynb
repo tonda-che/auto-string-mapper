{
 "cells": [
  {
   "cell_type": "code",
   "execution_count": 4,
   "id": "3b6e0696",
   "metadata": {},
   "outputs": [],
   "source": [
    "import pandas as pd\n",
    "import numpy as np\n",
    "from asm import AutoStringMapper"
   ]
  },
  {
   "cell_type": "code",
   "execution_count": 5,
   "id": "5d5793ec",
   "metadata": {},
   "outputs": [],
   "source": [
    "import string    \n",
    "import random # define the random module  \n",
    "def get_random_string():\n",
    "    S = 20  # number of characters in the string.  \n",
    "    # call random.choices() string module to find the string in Uppercase + numeric data.  \n",
    "    ran = ''.join(random.choices(string.ascii_uppercase + string.digits, k = S)) \n",
    "    return ran\n",
    "\n",
    "def get_random_string_array(num=100):\n",
    "    arr = []\n",
    "    for index in range(num):\n",
    "        arr.append(get_random_string())\n",
    "    return arr\n",
    "\n",
    "from_array = get_random_string_array()\n",
    "to_array = get_random_string_array()"
   ]
  },
  {
   "cell_type": "code",
   "execution_count": null,
   "id": "f2df3148",
   "metadata": {},
   "outputs": [],
   "source": [
    "result = AutoStringMapper(from_array, to_array)"
   ]
  },
  {
   "cell_type": "code",
   "execution_count": null,
   "id": "25b67916",
   "metadata": {},
   "outputs": [],
   "source": [
    "result.get_mapping(similarity_threshold=0.2)"
   ]
  },
  {
   "cell_type": "code",
   "execution_count": null,
   "id": "fcc91e0f",
   "metadata": {},
   "outputs": [],
   "source": []
  },
  {
   "cell_type": "code",
   "execution_count": null,
   "id": "7e01a948",
   "metadata": {},
   "outputs": [],
   "source": [
    "df1 = pd.DataFrame({\"column1\": [\"BMW\", \"MERCEDES\", \"VW\", \"OPEL\", \"OPER\", \"OPE\"]})"
   ]
  },
  {
   "cell_type": "code",
   "execution_count": null,
   "id": "294223c6",
   "metadata": {},
   "outputs": [],
   "source": [
    "AutoStringMapper(df1[\"column1\"], [\n",
    "            \"MERCEDES Benz Gmbh\",\n",
    "            \"Volkswagen\",\n",
    "            \"Opel Rüsselsheim\",\n",
    "            \"Bayrische Motorenwerke\",\n",
    "            \"OPER\",\n",
    "        ]).get_mapping(similarity_threshold=0.3)"
   ]
  },
  {
   "cell_type": "code",
   "execution_count": null,
   "id": "8443853a",
   "metadata": {},
   "outputs": [],
   "source": [
    "mat = AutoStringMapper(df1[\"column1\"], [\n",
    "            \"MERCEDES Benz Gmbh\",\n",
    "            \"Volkswagen\",\n",
    "            \"Opel Rüsselsheim\",\n",
    "            \"Bayrische Motorenwerke\",\n",
    "            \"OPER\",\n",
    "        ]).similarity_matrix"
   ]
  },
  {
   "cell_type": "code",
   "execution_count": null,
   "id": "83fdd8f8",
   "metadata": {},
   "outputs": [],
   "source": [
    "mat"
   ]
  }
 ],
 "metadata": {
  "kernelspec": {
   "display_name": "Python 3 (ipykernel)",
   "language": "python",
   "name": "python3"
  },
  "language_info": {
   "codemirror_mode": {
    "name": "ipython",
    "version": 3
   },
   "file_extension": ".py",
   "mimetype": "text/x-python",
   "name": "python",
   "nbconvert_exporter": "python",
   "pygments_lexer": "ipython3",
   "version": "3.9.1"
  }
 },
 "nbformat": 4,
 "nbformat_minor": 5
}
