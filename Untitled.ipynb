{
 "cells": [
  {
   "cell_type": "code",
   "execution_count": 1,
   "id": "3b6e0696",
   "metadata": {},
   "outputs": [],
   "source": [
    "import pandas as pd\n",
    "import numpy as np\n",
    "from asm import AutoStringMapper"
   ]
  },
  {
   "cell_type": "code",
   "execution_count": 2,
   "id": "7e01a948",
   "metadata": {},
   "outputs": [],
   "source": [
    "df1 = pd.DataFrame({\"column1\": [\"BMW\", \"MERCEDES\", \"VW\", \"OPEL\", \"OPER\", \"OPE\"]})"
   ]
  },
  {
   "cell_type": "code",
   "execution_count": 3,
   "id": "294223c6",
   "metadata": {},
   "outputs": [
    {
     "data": {
      "text/plain": [
       "{'BMW': nan,\n",
       " 'MERCEDES': 'MERCEDES Benz Gmbh',\n",
       " 'VW': nan,\n",
       " 'OPEL': 'OPER',\n",
       " 'OPER': 'OPER',\n",
       " 'OPE': 'OPER'}"
      ]
     },
     "execution_count": 3,
     "metadata": {},
     "output_type": "execute_result"
    }
   ],
   "source": [
    "AutoStringMapper(df1[\"column1\"], [\n",
    "            \"MERCEDES Benz Gmbh\",\n",
    "            \"Volkswagen\",\n",
    "            \"Opel Rüsselsheim\",\n",
    "            \"Bayrische Motorenwerke\",\n",
    "            \"OPER\",\n",
    "        ]).get_mapping(similarity_threshold=0.3)"
   ]
  },
  {
   "cell_type": "code",
   "execution_count": 4,
   "id": "8443853a",
   "metadata": {},
   "outputs": [],
   "source": [
    "mat = AutoStringMapper(df1[\"column1\"], [\n",
    "            \"MERCEDES Benz Gmbh\",\n",
    "            \"Volkswagen\",\n",
    "            \"Opel Rüsselsheim\",\n",
    "            \"Bayrische Motorenwerke\",\n",
    "            \"OPER\",\n",
    "        ]).similarity_matrix"
   ]
  },
  {
   "cell_type": "code",
   "execution_count": 5,
   "id": "83fdd8f8",
   "metadata": {},
   "outputs": [
    {
     "data": {
      "text/html": [
       "<div>\n",
       "<style scoped>\n",
       "    .dataframe tbody tr th:only-of-type {\n",
       "        vertical-align: middle;\n",
       "    }\n",
       "\n",
       "    .dataframe tbody tr th {\n",
       "        vertical-align: top;\n",
       "    }\n",
       "\n",
       "    .dataframe thead th {\n",
       "        text-align: right;\n",
       "    }\n",
       "</style>\n",
       "<table border=\"1\" class=\"dataframe\">\n",
       "  <thead>\n",
       "    <tr style=\"text-align: right;\">\n",
       "      <th></th>\n",
       "      <th>BMW</th>\n",
       "      <th>MERCEDES</th>\n",
       "      <th>VW</th>\n",
       "      <th>OPEL</th>\n",
       "      <th>OPER</th>\n",
       "      <th>OPE</th>\n",
       "    </tr>\n",
       "  </thead>\n",
       "  <tbody>\n",
       "    <tr>\n",
       "      <th>MERCEDES Benz Gmbh</th>\n",
       "      <td>0.055556</td>\n",
       "      <td>0.444444</td>\n",
       "      <td>0.000000</td>\n",
       "      <td>0.055556</td>\n",
       "      <td>0.055556</td>\n",
       "      <td>0.055556</td>\n",
       "    </tr>\n",
       "    <tr>\n",
       "      <th>Volkswagen</th>\n",
       "      <td>0.100000</td>\n",
       "      <td>0.100000</td>\n",
       "      <td>0.200000</td>\n",
       "      <td>0.100000</td>\n",
       "      <td>0.100000</td>\n",
       "      <td>0.100000</td>\n",
       "    </tr>\n",
       "    <tr>\n",
       "      <th>Opel Rüsselsheim</th>\n",
       "      <td>0.000000</td>\n",
       "      <td>0.250000</td>\n",
       "      <td>0.000000</td>\n",
       "      <td>0.250000</td>\n",
       "      <td>0.250000</td>\n",
       "      <td>0.187500</td>\n",
       "    </tr>\n",
       "    <tr>\n",
       "      <th>Bayrische Motorenwerke</th>\n",
       "      <td>0.136364</td>\n",
       "      <td>0.181818</td>\n",
       "      <td>0.045455</td>\n",
       "      <td>0.045455</td>\n",
       "      <td>0.090909</td>\n",
       "      <td>0.045455</td>\n",
       "    </tr>\n",
       "    <tr>\n",
       "      <th>OPER</th>\n",
       "      <td>0.000000</td>\n",
       "      <td>0.125000</td>\n",
       "      <td>0.000000</td>\n",
       "      <td>0.750000</td>\n",
       "      <td>1.000000</td>\n",
       "      <td>0.750000</td>\n",
       "    </tr>\n",
       "  </tbody>\n",
       "</table>\n",
       "</div>"
      ],
      "text/plain": [
       "                             BMW  MERCEDES        VW      OPEL      OPER  \\\n",
       "MERCEDES Benz Gmbh      0.055556  0.444444  0.000000  0.055556  0.055556   \n",
       "Volkswagen              0.100000  0.100000  0.200000  0.100000  0.100000   \n",
       "Opel Rüsselsheim        0.000000  0.250000  0.000000  0.250000  0.250000   \n",
       "Bayrische Motorenwerke  0.136364  0.181818  0.045455  0.045455  0.090909   \n",
       "OPER                    0.000000  0.125000  0.000000  0.750000  1.000000   \n",
       "\n",
       "                             OPE  \n",
       "MERCEDES Benz Gmbh      0.055556  \n",
       "Volkswagen              0.100000  \n",
       "Opel Rüsselsheim        0.187500  \n",
       "Bayrische Motorenwerke  0.045455  \n",
       "OPER                    0.750000  "
      ]
     },
     "execution_count": 5,
     "metadata": {},
     "output_type": "execute_result"
    }
   ],
   "source": [
    "mat"
   ]
  }
 ],
 "metadata": {
  "kernelspec": {
   "display_name": "Python 3 (ipykernel)",
   "language": "python",
   "name": "python3"
  },
  "language_info": {
   "codemirror_mode": {
    "name": "ipython",
    "version": 3
   },
   "file_extension": ".py",
   "mimetype": "text/x-python",
   "name": "python",
   "nbconvert_exporter": "python",
   "pygments_lexer": "ipython3",
   "version": "3.9.1"
  }
 },
 "nbformat": 4,
 "nbformat_minor": 5
}
